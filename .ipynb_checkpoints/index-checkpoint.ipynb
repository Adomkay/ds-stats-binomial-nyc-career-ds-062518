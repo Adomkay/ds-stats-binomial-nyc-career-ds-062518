{
 "cells": [
  {
   "cell_type": "markdown",
   "metadata": {},
   "source": [
    "# Binomial Distributions\n",
    "\n",
    "## SWBAT:\n",
    "1. Understand and describe a binomial distribution as a PRobability Mass function \n",
    "\n",
    "2. Evaluate a problem to discuss its fitness for a binomial experiment\n",
    "3. Calculate probability of an event from a binomial distribution\n",
    "4. Evaluate calculations with scipy functions\n",
    "\n",
    "What is a Binomial Distribution?\n",
    "\n",
    "A binomial distribution is simply the probability of a SUCCESS or FAILURE outcome in an experiment or survey that is repeated multiple times. The binomial is a type of distribution that has two possible outcomes (the prefix “bi” means two, or twice). For example, a coin toss has only two possible outcomes: heads or tails and taking a test could have two possible outcomes: pass or fail.\n",
    "\n",
    "The first variable in the binomial formula, n, stands for the number of times the experiment runs. The second variable, p, represents the probability of one specific outcome.\n",
    "The binomial distribution formula is:\n",
    "\n",
    "> **$$Pr(X=k)=C(n,k)p^k (1-p)^{n-k}$$**\n",
    "\n",
    "Where:\n",
    "* n= number of trials\n",
    "* k=number of successes\n",
    "* p=probability of success\n",
    "* 1-p=probability of failure (often written as q=1-p).\n",
    "\n"
   ]
  },
  {
   "cell_type": "markdown",
   "metadata": {},
   "source": [
    "Let's see an example question first, and then learn about the binomial distribution.\n",
    "\n",
    "Example 1: Two players are playing baseball as **Player A** and **Player B**. \n",
    "* Player A takes an average of 11 shots per game, and has an average success rate of 72% \n",
    "* Player B takes an average of 15 shots per game, but has an average success rate of 48\n",
    "\n",
    "Question 1: What's the probability that Player A makes 6 shots in an average game?\n",
    "\n",
    "Question 2: What's the probability that Player B makes 6 shots in an average game?\n",
    "\n",
    "\n",
    "\n",
    "\n"
   ]
  },
  {
   "cell_type": "markdown",
   "metadata": {},
   "source": [
    "Check for Binomial Distribution\n",
    "\n",
    "We can identify a problem as binomial experiment if following conditions are successfully met:\n",
    "\n",
    "1. The process consists of a sequence of trials, where n is the number of trials\n",
    "2. Only two mutually exclusive results are expected for each trial (A success and a failure)\n",
    "3. If the probability of a success is 'p' then the probability of failure is q=1-p (because of two mutually exclusive states)\n",
    "4. All of the trials are done independently\n",
    "\n",
    "We can see that the example given above meets all these considtions and hence satisfies the binomial assumption. \n"
   ]
  },
  {
   "cell_type": "markdown",
   "metadata": {},
   "source": [
    "* This means that to get exactly 'k' successes in 'n' trials, we want exactly 'k' successes: \n",
    "\n",
    "$$p^k$$\n",
    "\n",
    "* We also want 'n-k' failures:\n",
    "\n",
    "$$(1-p)^{n-k}$$\n",
    "\n",
    "* There are $$C(n,k)$$ ways of putting 'k' successes in 'n' trials.\n",
    "\n",
    "Note: C(n,k) refers to the number of possible combinations of N things taken k at a time.\n",
    "\n",
    "This is also equal to: $$C(n,k) =  \\frac{n!}{k!(n-k)!}$$"
   ]
  },
  {
   "cell_type": "markdown",
   "metadata": {},
   "source": [
    "Let's go back to example problem and see how this works. "
   ]
  },
  {
   "cell_type": "code",
   "execution_count": 2,
   "metadata": {},
   "outputs": [],
   "source": [
    "#The number of combinations of N things taken k at a time.\n",
    "#This is often expressed as “N choose k”.\n",
    "import numpy as np\n",
    "from scipy.special import comb\n",
    "import matplotlib.pyplot as plt"
   ]
  },
  {
   "cell_type": "code",
   "execution_count": 1,
   "metadata": {},
   "outputs": [],
   "source": [
    "def calc_prob(player, p, n, k):\n",
    "\n",
    "    # Calculate the number of possible combinations of n shots and k expected shots \n",
    "    combs = None\n",
    "\n",
    "    # Now put it together to get the probability using given formula\n",
    "    prob =None \n",
    "\n",
    "    # Put the answer in percentage form!\n",
    "    prob= None \n",
    "    \n",
    "    # Print the result with calculated probability value\n",
    "\n",
    "    return None\n",
    "\n",
    "p_A = None\n",
    "p_B = None\n",
    "n_A = None\n",
    "n_B = None\n",
    "k = None\n",
    "\n",
    "# Calculate the probability for player A and B taking 6 shots per game\n",
    "\n",
    "\n",
    "#  The probability of player A making 6 shots in an average game is 11.1% \n",
    " \n",
    "\n",
    "#  The probability of player B making 6 shots in an average game is 17.0% \n",
    " "
   ]
  },
  {
   "cell_type": "markdown",
   "metadata": {},
   "source": [
    "So now we know that even though player B is a poor shooter (p_B < p_A), because he takes more shots than player A (n_B > n_A), he will have better chances of making 6 shots in a game. \n",
    "\n",
    "We must also consider the higher amount of shots by player B. \n",
    "\n",
    "Will player's A higher probability take a stronger effect if we consider the number of shots?\n",
    "What's the probability of making 9 shots a game for either player?\n",
    "\n",
    "Let's use above function with a different value of k = 9 to find this out "
   ]
  },
  {
   "cell_type": "code",
   "execution_count": 4,
   "metadata": {},
   "outputs": [
    {
     "name": "stdout",
     "output_type": "stream",
     "text": [
      " The probability of player A making 9 shots in an average game is 22.4% \n",
      " \n",
      "\n",
      " The probability of player B making 9 shots in an average game is 13.4% \n",
      " \n",
      "\n"
     ]
    }
   ],
   "source": [
    "# set number of shots = 9 \n",
    "k = None\n",
    "\n",
    "# The probability of player A making 9 shots in an average game is 22.4% \n",
    " \n",
    "\n",
    "#  The probability of player B making 9 shots in an average game is 13.4% "
   ]
  },
  {
   "cell_type": "markdown",
   "metadata": {},
   "source": [
    "This shows us that player's A ability level gives better odds of making exactly 9 shots. We need to keep in mind that we are asking about the probability of making exactly those amount of shots. \n",
    "\n",
    "This is a different question than \" What's the probability that player A makes at least 9 shots?\" as we saw in hypothesis testing with t-tests. "
   ]
  },
  {
   "cell_type": "markdown",
   "metadata": {},
   "source": [
    "### Mean and standard deviation for binomial distribution\n",
    "\n",
    "The mean of a binomial distribution is the average number of successes, and this should be equal to total trials multiplied by average success rate.\n",
    "\n",
    "\n",
    "\n",
    "$$\\mu=n*p$$\n"
   ]
  },
  {
   "cell_type": "markdown",
   "metadata": {},
   "source": [
    "The standard deviation of a binomial is:\n",
    "$$\\sigma=\\sqrt{n*q*p}$$"
   ]
  },
  {
   "cell_type": "markdown",
   "metadata": {},
   "source": [
    "#### Question:\n",
    "\n",
    "> What is the average number of shots each player will make in a game, along with standard deviation?"
   ]
  },
  {
   "cell_type": "code",
   "execution_count": 5,
   "metadata": {},
   "outputs": [
    {
     "name": "stdout",
     "output_type": "stream",
     "text": [
      "\n",
      "\n",
      "Player A will make an average of 8.0 +/-  1.0 shots per game\n",
      "\n",
      "\n",
      "Player B will make an average of 7.0 +/-  2.0 shots per game\n"
     ]
    }
   ],
   "source": [
    "def mean_sd(player, n, p):\n",
    "    mu = None\n",
    "    sigma =None\n",
    "\n",
    "    # print output here\n",
    "\n",
    "    return None\n",
    "\n",
    "# mean_sd('A', n_A, p_A)\n",
    "# mean_sd('B', n_B, p_B)\n",
    "\n",
    "# Expected outputPlayer A will make an average of 8.0 +/-  1.0 shots per game\n",
    "\n",
    "# Player B will make an average of 7.0 +/-  2.0 shots per game"
   ]
  },
  {
   "cell_type": "markdown",
   "metadata": {},
   "source": [
    "So we can see that player B expected shots have a larger value of sigma , adding to the uncertainty around player B. "
   ]
  },
  {
   "cell_type": "markdown",
   "metadata": {},
   "source": [
    "Let's evaluate our results using scipy's built in binomial distribution function and see if the results compare with our calculations. "
   ]
  },
  {
   "cell_type": "code",
   "execution_count": 6,
   "metadata": {},
   "outputs": [
    {
     "name": "stdout",
     "output_type": "stream",
     "text": [
      "8.0 1.0\n",
      "7.0 2.0\n"
     ]
    }
   ],
   "source": [
    "from scipy.stats import binom\n",
    "\n",
    "# Player A\n",
    "mean,sd= None\n",
    "\n",
    "# Player B\n",
    "mean,sd= None \n",
    "# print rounded output\n",
    "\n",
    "# 8.0 1.0\n",
    "# 7.0 2.0"
   ]
  },
  {
   "cell_type": "markdown",
   "metadata": {},
   "source": [
    "**NOTE** above values have been rounded to nearest whole number as we can not take a \"decimal\" of a shot. \n",
    "\n",
    "The results from `scipy.binom` confirm our calculations above. "
   ]
  },
  {
   "cell_type": "code",
   "execution_count": 7,
   "metadata": {},
   "outputs": [
    {
     "data": {
      "image/png": "[encoded data removed]",
      "text/plain": [
       "<matplotlib.figure.Figure at 0x10b803550>"
      ]
     },
     "metadata": {},
     "output_type": "display_data"
    }
   ],
   "source": [
    "#Probability Mass Function\n",
    "\n",
    "def draw_pmf(player,n,p):\n",
    "    # Set up n success, remember indexing starts at 0, so use n+1\n",
    "    x = None\n",
    "    \n",
    "    # Now create the probability mass function\n",
    "    Y = None\n",
    "    \n",
    "    # plot and label x and y   \n",
    "    return None\n",
    "\n",
    "draw_pmf('A', n_A, p_A)\n"
   ]
  },
  {
   "cell_type": "code",
   "execution_count": 8,
   "metadata": {},
   "outputs": [
    {
     "data": {
      "image/png": "[encoded data removed]",
      "text/plain": [
       "<matplotlib.figure.Figure at 0x10b238d68>"
      ]
     },
     "metadata": {},
     "output_type": "display_data"
    }
   ],
   "source": [
    "# trepeat above step for player B"
   ]
  },
  {
   "cell_type": "markdown",
   "metadata": {},
   "source": [
    "### Summary \n",
    "\n",
    "In this lesson, we saw how a binomial distribution works and what factors must be ensured in order to satisfy a binomial experiment. We used a simple example along with relevant binomial calculations in python. The results were verified using scipy's built in function. The results were also visualized in order to explain the phenomenon better"
   ]
  }
 ],
 "metadata": {
  "kernelspec": {
   "display_name": "Python 3",
   "language": "python",
   "name": "python3"
  },
  "language_info": {
   "codemirror_mode": {
    "name": "ipython",
    "version": 3
   },
   "file_extension": ".py",
   "mimetype": "text/x-python",
   "name": "python",
   "nbconvert_exporter": "python",
   "pygments_lexer": "ipython3",
   "version": "3.6.4"
  }
 },
 "nbformat": 4,
 "nbformat_minor": 2
}
